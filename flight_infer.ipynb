{
  "nbformat": 4,
  "nbformat_minor": 0,
  "metadata": {
    "colab": {
      "provenance": [],
      "authorship_tag": "ABX9TyORs+VcqjwM0TGSRAvSN6EH"
    },
    "kernelspec": {
      "name": "python3",
      "display_name": "Python 3"
    },
    "language_info": {
      "name": "python"
    }
  },
  "cells": [
    {
      "cell_type": "markdown",
      "source": [
        "#Inference and Conclusions from AB Testing\n"
      ],
      "metadata": {
        "id": "o642ioNU9kV_"
      }
    },
    {
      "cell_type": "markdown",
      "source": [
        "#1. A/B Testing"
      ],
      "metadata": {
        "id": "QgVuRObT9mll"
      }
    },
    {
      "cell_type": "code",
      "source": [
        "from google.colab import drive\n",
        "drive.mount('/content/drive')"
      ],
      "metadata": {
        "colab": {
          "base_uri": "https://localhost:8080/"
        },
        "id": "1DvsBdI89xfM",
        "outputId": "fdfb9349-66a9-4172-89c4-649f2b1d8794"
      },
      "execution_count": null,
      "outputs": [
        {
          "output_type": "stream",
          "name": "stdout",
          "text": [
            "Mounted at /content/drive\n"
          ]
        }
      ]
    },
    {
      "cell_type": "code",
      "source": [
        "import pandas as pd\n",
        "import numpy as np\n",
        "from scipy import stats\n",
        "import matplotlib.pyplot as plt"
      ],
      "metadata": {
        "id": "thG5QGOZ97HK"
      },
      "execution_count": null,
      "outputs": []
    },
    {
      "cell_type": "code",
      "source": [
        "df = pd.read_csv('/content/drive/MyDrive/Datasets_TK530/I-6_Data.csv')\n",
        "sum_stats = df.describe(include='all')\n",
        "print(sum_stats)"
      ],
      "metadata": {
        "colab": {
          "base_uri": "https://localhost:8080/",
          "height": 337
        },
        "collapsed": true,
        "id": "MTQ93zto-DQ6",
        "outputId": "c51de4f7-c124-46c5-c552-fc9c24fb494b"
      },
      "execution_count": null,
      "outputs": [
        {
          "output_type": "error",
          "ename": "FileNotFoundError",
          "evalue": "[Errno 2] No such file or directory: '/content/drive/MyDrive/Datasets_TK530/I-6_Data.csv'",
          "traceback": [
            "\u001b[0;31m---------------------------------------------------------------------------\u001b[0m",
            "\u001b[0;31mFileNotFoundError\u001b[0m                         Traceback (most recent call last)",
            "\u001b[0;32m<ipython-input-2-acc6df828ff8>\u001b[0m in \u001b[0;36m<cell line: 1>\u001b[0;34m()\u001b[0m\n\u001b[0;32m----> 1\u001b[0;31m \u001b[0mdf\u001b[0m \u001b[0;34m=\u001b[0m \u001b[0mpd\u001b[0m\u001b[0;34m.\u001b[0m\u001b[0mread_csv\u001b[0m\u001b[0;34m(\u001b[0m\u001b[0;34m'/content/drive/MyDrive/Datasets_TK530/I-6_Data.csv'\u001b[0m\u001b[0;34m)\u001b[0m\u001b[0;34m\u001b[0m\u001b[0;34m\u001b[0m\u001b[0m\n\u001b[0m\u001b[1;32m      2\u001b[0m \u001b[0msum_stats\u001b[0m \u001b[0;34m=\u001b[0m \u001b[0mdf\u001b[0m\u001b[0;34m.\u001b[0m\u001b[0mdescribe\u001b[0m\u001b[0;34m(\u001b[0m\u001b[0minclude\u001b[0m\u001b[0;34m=\u001b[0m\u001b[0;34m'all'\u001b[0m\u001b[0;34m)\u001b[0m\u001b[0;34m\u001b[0m\u001b[0;34m\u001b[0m\u001b[0m\n\u001b[1;32m      3\u001b[0m \u001b[0mprint\u001b[0m\u001b[0;34m(\u001b[0m\u001b[0msum_stats\u001b[0m\u001b[0;34m)\u001b[0m\u001b[0;34m\u001b[0m\u001b[0;34m\u001b[0m\u001b[0m\n",
            "\u001b[0;32m/usr/local/lib/python3.10/dist-packages/pandas/io/parsers/readers.py\u001b[0m in \u001b[0;36mread_csv\u001b[0;34m(filepath_or_buffer, sep, delimiter, header, names, index_col, usecols, dtype, engine, converters, true_values, false_values, skipinitialspace, skiprows, skipfooter, nrows, na_values, keep_default_na, na_filter, verbose, skip_blank_lines, parse_dates, infer_datetime_format, keep_date_col, date_parser, date_format, dayfirst, cache_dates, iterator, chunksize, compression, thousands, decimal, lineterminator, quotechar, quoting, doublequote, escapechar, comment, encoding, encoding_errors, dialect, on_bad_lines, delim_whitespace, low_memory, memory_map, float_precision, storage_options, dtype_backend)\u001b[0m\n\u001b[1;32m   1024\u001b[0m     \u001b[0mkwds\u001b[0m\u001b[0;34m.\u001b[0m\u001b[0mupdate\u001b[0m\u001b[0;34m(\u001b[0m\u001b[0mkwds_defaults\u001b[0m\u001b[0;34m)\u001b[0m\u001b[0;34m\u001b[0m\u001b[0;34m\u001b[0m\u001b[0m\n\u001b[1;32m   1025\u001b[0m \u001b[0;34m\u001b[0m\u001b[0m\n\u001b[0;32m-> 1026\u001b[0;31m     \u001b[0;32mreturn\u001b[0m \u001b[0m_read\u001b[0m\u001b[0;34m(\u001b[0m\u001b[0mfilepath_or_buffer\u001b[0m\u001b[0;34m,\u001b[0m \u001b[0mkwds\u001b[0m\u001b[0;34m)\u001b[0m\u001b[0;34m\u001b[0m\u001b[0;34m\u001b[0m\u001b[0m\n\u001b[0m\u001b[1;32m   1027\u001b[0m \u001b[0;34m\u001b[0m\u001b[0m\n\u001b[1;32m   1028\u001b[0m \u001b[0;34m\u001b[0m\u001b[0m\n",
            "\u001b[0;32m/usr/local/lib/python3.10/dist-packages/pandas/io/parsers/readers.py\u001b[0m in \u001b[0;36m_read\u001b[0;34m(filepath_or_buffer, kwds)\u001b[0m\n\u001b[1;32m    618\u001b[0m \u001b[0;34m\u001b[0m\u001b[0m\n\u001b[1;32m    619\u001b[0m     \u001b[0;31m# Create the parser.\u001b[0m\u001b[0;34m\u001b[0m\u001b[0;34m\u001b[0m\u001b[0m\n\u001b[0;32m--> 620\u001b[0;31m     \u001b[0mparser\u001b[0m \u001b[0;34m=\u001b[0m \u001b[0mTextFileReader\u001b[0m\u001b[0;34m(\u001b[0m\u001b[0mfilepath_or_buffer\u001b[0m\u001b[0;34m,\u001b[0m \u001b[0;34m**\u001b[0m\u001b[0mkwds\u001b[0m\u001b[0;34m)\u001b[0m\u001b[0;34m\u001b[0m\u001b[0;34m\u001b[0m\u001b[0m\n\u001b[0m\u001b[1;32m    621\u001b[0m \u001b[0;34m\u001b[0m\u001b[0m\n\u001b[1;32m    622\u001b[0m     \u001b[0;32mif\u001b[0m \u001b[0mchunksize\u001b[0m \u001b[0;32mor\u001b[0m \u001b[0miterator\u001b[0m\u001b[0;34m:\u001b[0m\u001b[0;34m\u001b[0m\u001b[0;34m\u001b[0m\u001b[0m\n",
            "\u001b[0;32m/usr/local/lib/python3.10/dist-packages/pandas/io/parsers/readers.py\u001b[0m in \u001b[0;36m__init__\u001b[0;34m(self, f, engine, **kwds)\u001b[0m\n\u001b[1;32m   1618\u001b[0m \u001b[0;34m\u001b[0m\u001b[0m\n\u001b[1;32m   1619\u001b[0m         \u001b[0mself\u001b[0m\u001b[0;34m.\u001b[0m\u001b[0mhandles\u001b[0m\u001b[0;34m:\u001b[0m \u001b[0mIOHandles\u001b[0m \u001b[0;34m|\u001b[0m \u001b[0;32mNone\u001b[0m \u001b[0;34m=\u001b[0m \u001b[0;32mNone\u001b[0m\u001b[0;34m\u001b[0m\u001b[0;34m\u001b[0m\u001b[0m\n\u001b[0;32m-> 1620\u001b[0;31m         \u001b[0mself\u001b[0m\u001b[0;34m.\u001b[0m\u001b[0m_engine\u001b[0m \u001b[0;34m=\u001b[0m \u001b[0mself\u001b[0m\u001b[0;34m.\u001b[0m\u001b[0m_make_engine\u001b[0m\u001b[0;34m(\u001b[0m\u001b[0mf\u001b[0m\u001b[0;34m,\u001b[0m \u001b[0mself\u001b[0m\u001b[0;34m.\u001b[0m\u001b[0mengine\u001b[0m\u001b[0;34m)\u001b[0m\u001b[0;34m\u001b[0m\u001b[0;34m\u001b[0m\u001b[0m\n\u001b[0m\u001b[1;32m   1621\u001b[0m \u001b[0;34m\u001b[0m\u001b[0m\n\u001b[1;32m   1622\u001b[0m     \u001b[0;32mdef\u001b[0m \u001b[0mclose\u001b[0m\u001b[0;34m(\u001b[0m\u001b[0mself\u001b[0m\u001b[0;34m)\u001b[0m \u001b[0;34m->\u001b[0m \u001b[0;32mNone\u001b[0m\u001b[0;34m:\u001b[0m\u001b[0;34m\u001b[0m\u001b[0;34m\u001b[0m\u001b[0m\n",
            "\u001b[0;32m/usr/local/lib/python3.10/dist-packages/pandas/io/parsers/readers.py\u001b[0m in \u001b[0;36m_make_engine\u001b[0;34m(self, f, engine)\u001b[0m\n\u001b[1;32m   1878\u001b[0m                 \u001b[0;32mif\u001b[0m \u001b[0;34m\"b\"\u001b[0m \u001b[0;32mnot\u001b[0m \u001b[0;32min\u001b[0m \u001b[0mmode\u001b[0m\u001b[0;34m:\u001b[0m\u001b[0;34m\u001b[0m\u001b[0;34m\u001b[0m\u001b[0m\n\u001b[1;32m   1879\u001b[0m                     \u001b[0mmode\u001b[0m \u001b[0;34m+=\u001b[0m \u001b[0;34m\"b\"\u001b[0m\u001b[0;34m\u001b[0m\u001b[0;34m\u001b[0m\u001b[0m\n\u001b[0;32m-> 1880\u001b[0;31m             self.handles = get_handle(\n\u001b[0m\u001b[1;32m   1881\u001b[0m                 \u001b[0mf\u001b[0m\u001b[0;34m,\u001b[0m\u001b[0;34m\u001b[0m\u001b[0;34m\u001b[0m\u001b[0m\n\u001b[1;32m   1882\u001b[0m                 \u001b[0mmode\u001b[0m\u001b[0;34m,\u001b[0m\u001b[0;34m\u001b[0m\u001b[0;34m\u001b[0m\u001b[0m\n",
            "\u001b[0;32m/usr/local/lib/python3.10/dist-packages/pandas/io/common.py\u001b[0m in \u001b[0;36mget_handle\u001b[0;34m(path_or_buf, mode, encoding, compression, memory_map, is_text, errors, storage_options)\u001b[0m\n\u001b[1;32m    871\u001b[0m         \u001b[0;32mif\u001b[0m \u001b[0mioargs\u001b[0m\u001b[0;34m.\u001b[0m\u001b[0mencoding\u001b[0m \u001b[0;32mand\u001b[0m \u001b[0;34m\"b\"\u001b[0m \u001b[0;32mnot\u001b[0m \u001b[0;32min\u001b[0m \u001b[0mioargs\u001b[0m\u001b[0;34m.\u001b[0m\u001b[0mmode\u001b[0m\u001b[0;34m:\u001b[0m\u001b[0;34m\u001b[0m\u001b[0;34m\u001b[0m\u001b[0m\n\u001b[1;32m    872\u001b[0m             \u001b[0;31m# Encoding\u001b[0m\u001b[0;34m\u001b[0m\u001b[0;34m\u001b[0m\u001b[0m\n\u001b[0;32m--> 873\u001b[0;31m             handle = open(\n\u001b[0m\u001b[1;32m    874\u001b[0m                 \u001b[0mhandle\u001b[0m\u001b[0;34m,\u001b[0m\u001b[0;34m\u001b[0m\u001b[0;34m\u001b[0m\u001b[0m\n\u001b[1;32m    875\u001b[0m                 \u001b[0mioargs\u001b[0m\u001b[0;34m.\u001b[0m\u001b[0mmode\u001b[0m\u001b[0;34m,\u001b[0m\u001b[0;34m\u001b[0m\u001b[0;34m\u001b[0m\u001b[0m\n",
            "\u001b[0;31mFileNotFoundError\u001b[0m: [Errno 2] No such file or directory: '/content/drive/MyDrive/Datasets_TK530/I-6_Data.csv'"
          ]
        }
      ]
    },
    {
      "cell_type": "code",
      "source": [
        "#Spend summary stats don't look right.  Looks like we need to clean up the $ and ' symbols.\n",
        "df['Spend'] = df['Spend'].replace('[\\$,]', '', regex=True).astype(float)"
      ],
      "metadata": {
        "id": "1HeWuYA0LGRg"
      },
      "execution_count": null,
      "outputs": []
    },
    {
      "cell_type": "markdown",
      "source": [
        "## Problem 1.1"
      ],
      "metadata": {
        "id": "yZIeBTX0-fy5"
      }
    },
    {
      "cell_type": "markdown",
      "source": [
        "The null hypothesis is that Treatment A has no effect on total spending. Or, that the mean spending is equal for Control and Treatment A populations."
      ],
      "metadata": {
        "id": "wQ5-FhgA-lL7"
      }
    },
    {
      "cell_type": "markdown",
      "source": [
        "##Problem 1.2"
      ],
      "metadata": {
        "id": "ieKqe3bt-40K"
      }
    },
    {
      "cell_type": "code",
      "source": [
        "for treatment, group_data in df.groupby('Treatment'):\n",
        "    group_data.hist(column='Spend')\n",
        "    plt.title(f'{treatment}')\n",
        "    plt.show()"
      ],
      "metadata": {
        "colab": {
          "base_uri": "https://localhost:8080/",
          "height": 887
        },
        "id": "wpf9bJC0-fdA",
        "outputId": "8cb6e3b2-a289-4609-8abd-253e199ce5eb"
      },
      "execution_count": null,
      "outputs": [
        {
          "output_type": "display_data",
          "data": {
            "text/plain": [
              "<Figure size 640x480 with 1 Axes>"
            ],
            "image/png": "[encoded data removed]"
          },
          "metadata": {}
        },
        {
          "output_type": "display_data",
          "data": {
            "text/plain": [
              "<Figure size 640x480 with 1 Axes>"
            ],
            "image/png": "[encoded data removed]"
          },
          "metadata": {}
        }
      ]
    },
    {
      "cell_type": "markdown",
      "source": [
        "##Problem 1.3"
      ],
      "metadata": {
        "id": "MVfm4BHcOFIK"
      }
    },
    {
      "cell_type": "code",
      "source": [
        "#To evaluate the A/B test, we should use the t-test to evaluate the statistical significance of the difference of the two means of the two treatments.\n",
        "\n",
        "control = df.loc[(df['Treatment'] == 'Control'),'Spend'].dropna()\n",
        "trtA = df.loc[(df['Treatment'] == 'Treatment A'),'Spend'].dropna()\n",
        "\n",
        "#First, we want to evaluate variance equality to determine which t-test to run.\n",
        "res = stats.levene(control, trtA)\n",
        "res.pvalue"
      ],
      "metadata": {
        "colab": {
          "base_uri": "https://localhost:8080/"
        },
        "id": "qEpM1HXSOKrH",
        "outputId": "44b00c53-98c5-4023-da90-4e805eec1426"
      },
      "execution_count": null,
      "outputs": [
        {
          "output_type": "execute_result",
          "data": {
            "text/plain": [
              "0.0"
            ]
          },
          "metadata": {},
          "execution_count": 8
        }
      ]
    },
    {
      "cell_type": "code",
      "source": [
        "#That indicates a difference in variances across the two samples, which tells us we should use the Welch's t-test.\n",
        "t_stat, p_value = stats.ttest_ind(control, trtA, equal_var=False)\n",
        "\n",
        "print(f\"\\nT-statistic: {t_stat:.3f}\")\n",
        "print(f\"P-value: {p_value:.3e}\")"
      ],
      "metadata": {
        "colab": {
          "base_uri": "https://localhost:8080/"
        },
        "id": "_47843o-U2y6",
        "outputId": "8ff98403-2305-4f43-d384-bbf2795a8468"
      },
      "execution_count": null,
      "outputs": [
        {
          "output_type": "stream",
          "name": "stdout",
          "text": [
            "\n",
            "T-statistic: -42.294\n",
            "P-value: 0.000e+00\n"
          ]
        }
      ]
    },
    {
      "cell_type": "markdown",
      "source": [
        "##Problem 1.4"
      ],
      "metadata": {
        "id": "QJPLBklabO4E"
      }
    },
    {
      "cell_type": "markdown",
      "source": [
        "Our A/B testing shows that the new experimental design has a statistically significant effect on how much consumers decide to spend (in a positive direction). In fact, the change is so noticeable over our large sample size that we are nearly certain that the difference exists."
      ],
      "metadata": {
        "id": "64Z76tDabQtr"
      }
    },
    {
      "cell_type": "markdown",
      "source": [
        "##Problem 1.5"
      ],
      "metadata": {
        "id": "w7DSZCzByaMp"
      }
    },
    {
      "cell_type": "markdown",
      "source": [
        "The null hypothesis is that Treatment A has no effect on the conversion rate. Or, that the conversion rate is equal for Control and Treatment A populations."
      ],
      "metadata": {
        "id": "HGguGMw5ycC_"
      }
    },
    {
      "cell_type": "markdown",
      "source": [
        "##Problem 1.6"
      ],
      "metadata": {
        "id": "CAzh_3Xoy9mf"
      }
    },
    {
      "cell_type": "code",
      "source": [
        "'''I assume in this scenario, I would have the historical base conversion rate; since that isn't provided, I will\n",
        "use the control conversion rate as an estimated baseline'''"
      ],
      "metadata": {
        "id": "hqyDl4Vuy8xc"
      },
      "execution_count": null,
      "outputs": []
    },
    {
      "cell_type": "code",
      "source": [
        "trtA_c = df.loc[(df['Treatment'] == 'Treatment A'),'Convert'].dropna()\n",
        "conv_A = trtA_c.mean()\n",
        "print(conv_A)"
      ],
      "metadata": {
        "colab": {
          "base_uri": "https://localhost:8080/"
        },
        "id": "w0PkMvmXzM_H",
        "outputId": "8e70f9d4-f6db-4bf8-ebcd-8497729e8e03"
      },
      "execution_count": null,
      "outputs": [
        {
          "output_type": "stream",
          "name": "stdout",
          "text": [
            "0.2524964336661912\n"
          ]
        }
      ]
    },
    {
      "cell_type": "markdown",
      "source": [
        "I used this tool: https://www.statsig.com/calculator\n",
        "For my calculation, I used:\n",
        "\n",
        "*   α = 0.05\n",
        "*   β = 0.2\n",
        "*   Hypothesis testing = two-sided\n",
        "*   MDE = 30% from baseline = 7.5 percentage points\n",
        "\n",
        "The result that the sample size required was 19,000.\n",
        "\n"
      ],
      "metadata": {
        "id": "qorR-N894lKd"
      }
    },
    {
      "cell_type": "markdown",
      "source": [
        "##Problem 1.7"
      ],
      "metadata": {
        "id": "kfdbOP866K0w"
      }
    },
    {
      "cell_type": "code",
      "source": [
        "conv_rt = df.groupby('Treatment', as_index=False)['Convert'].mean()\n",
        "conv_rt.head()"
      ],
      "metadata": {
        "colab": {
          "base_uri": "https://localhost:8080/",
          "height": 112
        },
        "id": "X2UDk8at5Z6I",
        "outputId": "19cf2bb5-dcad-4c28-c629-04aa1c2d0d3c"
      },
      "execution_count": null,
      "outputs": [
        {
          "output_type": "execute_result",
          "data": {
            "text/plain": [
              "     Treatment   Convert\n",
              "0      Control  0.261094\n",
              "1  Treatment A  0.252496"
            ],
            "text/html": [
              "\n",
              "  <div id=\"df-60461608-8321-4b8f-9c8c-c42a0a70bf8e\" class=\"colab-df-container\">\n",
              "    <div>\n",
              "<style scoped>\n",
              "    .dataframe tbody tr th:only-of-type {\n",
              "        vertical-align: middle;\n",
              "    }\n",
              "\n",
              "    .dataframe tbody tr th {\n",
              "        vertical-align: top;\n",
              "    }\n",
              "\n",
              "    .dataframe thead th {\n",
              "        text-align: right;\n",
              "    }\n",
              "</style>\n",
              "<table border=\"1\" class=\"dataframe\">\n",
              "  <thead>\n",
              "    <tr style=\"text-align: right;\">\n",
              "      <th></th>\n",
              "      <th>Treatment</th>\n",
              "      <th>Convert</th>\n",
              "    </tr>\n",
              "  </thead>\n",
              "  <tbody>\n",
              "    <tr>\n",
              "      <th>0</th>\n",
              "      <td>Control</td>\n",
              "      <td>0.261094</td>\n",
              "    </tr>\n",
              "    <tr>\n",
              "      <th>1</th>\n",
              "      <td>Treatment A</td>\n",
              "      <td>0.252496</td>\n",
              "    </tr>\n",
              "  </tbody>\n",
              "</table>\n",
              "</div>\n",
              "    <div class=\"colab-df-buttons\">\n",
              "\n",
              "  <div class=\"colab-df-container\">\n",
              "    <button class=\"colab-df-convert\" onclick=\"convertToInteractive('df-60461608-8321-4b8f-9c8c-c42a0a70bf8e')\"\n",
              "            title=\"Convert this dataframe to an interactive table.\"\n",
              "            style=\"display:none;\">\n",
              "\n",
              "  <svg xmlns=\"http://www.w3.org/2000/svg\" height=\"24px\" viewBox=\"0 -960 960 960\">\n",
              "    <path d=\"M120-120v-720h720v720H120Zm60-500h600v-160H180v160Zm220 220h160v-160H400v160Zm0 220h160v-160H400v160ZM180-400h160v-160H180v160Zm440 0h160v-160H620v160ZM180-180h160v-160H180v160Zm440 0h160v-160H620v160Z\"/>\n",
              "  </svg>\n",
              "    </button>\n",
              "\n",
              "  <style>\n",
              "    .colab-df-container {\n",
              "      display:flex;\n",
              "      gap: 12px;\n",
              "    }\n",
              "\n",
              "    .colab-df-convert {\n",
              "      background-color: #E8F0FE;\n",
              "      border: none;\n",
              "      border-radius: 50%;\n",
              "      cursor: pointer;\n",
              "      display: none;\n",
              "      fill: #1967D2;\n",
              "      height: 32px;\n",
              "      padding: 0 0 0 0;\n",
              "      width: 32px;\n",
              "    }\n",
              "\n",
              "    .colab-df-convert:hover {\n",
              "      background-color: #E2EBFA;\n",
              "      box-shadow: 0px 1px 2px rgba(60, 64, 67, 0.3), 0px 1px 3px 1px rgba(60, 64, 67, 0.15);\n",
              "      fill: #174EA6;\n",
              "    }\n",
              "\n",
              "    .colab-df-buttons div {\n",
              "      margin-bottom: 4px;\n",
              "    }\n",
              "\n",
              "    [theme=dark] .colab-df-convert {\n",
              "      background-color: #3B4455;\n",
              "      fill: #D2E3FC;\n",
              "    }\n",
              "\n",
              "    [theme=dark] .colab-df-convert:hover {\n",
              "      background-color: #434B5C;\n",
              "      box-shadow: 0px 1px 3px 1px rgba(0, 0, 0, 0.15);\n",
              "      filter: drop-shadow(0px 1px 2px rgba(0, 0, 0, 0.3));\n",
              "      fill: #FFFFFF;\n",
              "    }\n",
              "  </style>\n",
              "\n",
              "    <script>\n",
              "      const buttonEl =\n",
              "        document.querySelector('#df-60461608-8321-4b8f-9c8c-c42a0a70bf8e button.colab-df-convert');\n",
              "      buttonEl.style.display =\n",
              "        google.colab.kernel.accessAllowed ? 'block' : 'none';\n",
              "\n",
              "      async function convertToInteractive(key) {\n",
              "        const element = document.querySelector('#df-60461608-8321-4b8f-9c8c-c42a0a70bf8e');\n",
              "        const dataTable =\n",
              "          await google.colab.kernel.invokeFunction('convertToInteractive',\n",
              "                                                    [key], {});\n",
              "        if (!dataTable) return;\n",
              "\n",
              "        const docLinkHtml = 'Like what you see? Visit the ' +\n",
              "          '<a target=\"_blank\" href=https://colab.research.google.com/notebooks/data_table.ipynb>data table notebook</a>'\n",
              "          + ' to learn more about interactive tables.';\n",
              "        element.innerHTML = '';\n",
              "        dataTable['output_type'] = 'display_data';\n",
              "        await google.colab.output.renderOutput(dataTable, element);\n",
              "        const docLink = document.createElement('div');\n",
              "        docLink.innerHTML = docLinkHtml;\n",
              "        element.appendChild(docLink);\n",
              "      }\n",
              "    </script>\n",
              "  </div>\n",
              "\n",
              "\n",
              "<div id=\"df-a1848865-5e3f-450e-9c5c-16f79a3d17a7\">\n",
              "  <button class=\"colab-df-quickchart\" onclick=\"quickchart('df-a1848865-5e3f-450e-9c5c-16f79a3d17a7')\"\n",
              "            title=\"Suggest charts\"\n",
              "            style=\"display:none;\">\n",
              "\n",
              "<svg xmlns=\"http://www.w3.org/2000/svg\" height=\"24px\"viewBox=\"0 0 24 24\"\n",
              "     width=\"24px\">\n",
              "    <g>\n",
              "        <path d=\"M19 3H5c-1.1 0-2 .9-2 2v14c0 1.1.9 2 2 2h14c1.1 0 2-.9 2-2V5c0-1.1-.9-2-2-2zM9 17H7v-7h2v7zm4 0h-2V7h2v10zm4 0h-2v-4h2v4z\"/>\n",
              "    </g>\n",
              "</svg>\n",
              "  </button>\n",
              "\n",
              "<style>\n",
              "  .colab-df-quickchart {\n",
              "      --bg-color: #E8F0FE;\n",
              "      --fill-color: #1967D2;\n",
              "      --hover-bg-color: #E2EBFA;\n",
              "      --hover-fill-color: #174EA6;\n",
              "      --disabled-fill-color: #AAA;\n",
              "      --disabled-bg-color: #DDD;\n",
              "  }\n",
              "\n",
              "  [theme=dark] .colab-df-quickchart {\n",
              "      --bg-color: #3B4455;\n",
              "      --fill-color: #D2E3FC;\n",
              "      --hover-bg-color: #434B5C;\n",
              "      --hover-fill-color: #FFFFFF;\n",
              "      --disabled-bg-color: #3B4455;\n",
              "      --disabled-fill-color: #666;\n",
              "  }\n",
              "\n",
              "  .colab-df-quickchart {\n",
              "    background-color: var(--bg-color);\n",
              "    border: none;\n",
              "    border-radius: 50%;\n",
              "    cursor: pointer;\n",
              "    display: none;\n",
              "    fill: var(--fill-color);\n",
              "    height: 32px;\n",
              "    padding: 0;\n",
              "    width: 32px;\n",
              "  }\n",
              "\n",
              "  .colab-df-quickchart:hover {\n",
              "    background-color: var(--hover-bg-color);\n",
              "    box-shadow: 0 1px 2px rgba(60, 64, 67, 0.3), 0 1px 3px 1px rgba(60, 64, 67, 0.15);\n",
              "    fill: var(--button-hover-fill-color);\n",
              "  }\n",
              "\n",
              "  .colab-df-quickchart-complete:disabled,\n",
              "  .colab-df-quickchart-complete:disabled:hover {\n",
              "    background-color: var(--disabled-bg-color);\n",
              "    fill: var(--disabled-fill-color);\n",
              "    box-shadow: none;\n",
              "  }\n",
              "\n",
              "  .colab-df-spinner {\n",
              "    border: 2px solid var(--fill-color);\n",
              "    border-color: transparent;\n",
              "    border-bottom-color: var(--fill-color);\n",
              "    animation:\n",
              "      spin 1s steps(1) infinite;\n",
              "  }\n",
              "\n",
              "  @keyframes spin {\n",
              "    0% {\n",
              "      border-color: transparent;\n",
              "      border-bottom-color: var(--fill-color);\n",
              "      border-left-color: var(--fill-color);\n",
              "    }\n",
              "    20% {\n",
              "      border-color: transparent;\n",
              "      border-left-color: var(--fill-color);\n",
              "      border-top-color: var(--fill-color);\n",
              "    }\n",
              "    30% {\n",
              "      border-color: transparent;\n",
              "      border-left-color: var(--fill-color);\n",
              "      border-top-color: var(--fill-color);\n",
              "      border-right-color: var(--fill-color);\n",
              "    }\n",
              "    40% {\n",
              "      border-color: transparent;\n",
              "      border-right-color: var(--fill-color);\n",
              "      border-top-color: var(--fill-color);\n",
              "    }\n",
              "    60% {\n",
              "      border-color: transparent;\n",
              "      border-right-color: var(--fill-color);\n",
              "    }\n",
              "    80% {\n",
              "      border-color: transparent;\n",
              "      border-right-color: var(--fill-color);\n",
              "      border-bottom-color: var(--fill-color);\n",
              "    }\n",
              "    90% {\n",
              "      border-color: transparent;\n",
              "      border-bottom-color: var(--fill-color);\n",
              "    }\n",
              "  }\n",
              "</style>\n",
              "\n",
              "  <script>\n",
              "    async function quickchart(key) {\n",
              "      const quickchartButtonEl =\n",
              "        document.querySelector('#' + key + ' button');\n",
              "      quickchartButtonEl.disabled = true;  // To prevent multiple clicks.\n",
              "      quickchartButtonEl.classList.add('colab-df-spinner');\n",
              "      try {\n",
              "        const charts = await google.colab.kernel.invokeFunction(\n",
              "            'suggestCharts', [key], {});\n",
              "      } catch (error) {\n",
              "        console.error('Error during call to suggestCharts:', error);\n",
              "      }\n",
              "      quickchartButtonEl.classList.remove('colab-df-spinner');\n",
              "      quickchartButtonEl.classList.add('colab-df-quickchart-complete');\n",
              "    }\n",
              "    (() => {\n",
              "      let quickchartButtonEl =\n",
              "        document.querySelector('#df-a1848865-5e3f-450e-9c5c-16f79a3d17a7 button');\n",
              "      quickchartButtonEl.style.display =\n",
              "        google.colab.kernel.accessAllowed ? 'block' : 'none';\n",
              "    })();\n",
              "  </script>\n",
              "</div>\n",
              "\n",
              "    </div>\n",
              "  </div>\n"
            ],
            "application/vnd.google.colaboratory.intrinsic+json": {
              "type": "dataframe",
              "variable_name": "conv_rt",
              "summary": "{\n  \"name\": \"conv_rt\",\n  \"rows\": 2,\n  \"fields\": [\n    {\n      \"column\": \"Treatment\",\n      \"properties\": {\n        \"dtype\": \"string\",\n        \"num_unique_values\": 2,\n        \"samples\": [\n          \"Treatment A\",\n          \"Control\"\n        ],\n        \"semantic_type\": \"\",\n        \"description\": \"\"\n      }\n    },\n    {\n      \"column\": \"Convert\",\n      \"properties\": {\n        \"dtype\": \"number\",\n        \"std\": 0.006079334699698391,\n        \"min\": 0.2524964336661912,\n        \"max\": 0.26109391124871,\n        \"num_unique_values\": 2,\n        \"samples\": [\n          0.2524964336661912,\n          0.26109391124871\n        ],\n        \"semantic_type\": \"\",\n        \"description\": \"\"\n      }\n    }\n  ]\n}"
            }
          },
          "metadata": {},
          "execution_count": 11
        }
      ]
    },
    {
      "cell_type": "markdown",
      "source": [
        "##Problem 1.8"
      ],
      "metadata": {
        "id": "CWEXdM9L6akF"
      }
    },
    {
      "cell_type": "code",
      "source": [
        "import statsmodels.stats.proportion as smprop\n",
        "\n",
        "\n",
        "n_control = (df['Treatment'] == 'Control').sum()\n",
        "n_A = (df['Treatment'] == 'Treatment A').sum()\n",
        "\n",
        "s_control = ((df['Treatment'] == 'Control') & (df['Convert'] == True)).sum()\n",
        "s_A = ((df['Treatment'] == 'Treatment A') & (df['Convert'] == True)).sum()"
      ],
      "metadata": {
        "id": "bZHz1_mH6cti"
      },
      "execution_count": null,
      "outputs": []
    },
    {
      "cell_type": "code",
      "source": [
        "count = np.array([s_control, s_A])\n",
        "nobs = np.array([n_control, n_A])\n",
        "\n",
        "z_stat, p_value = smprop.proportions_ztest(count, nobs)\n",
        "print(f\"Z-statistic: {z_stat}, P-value: {p_value}\")"
      ],
      "metadata": {
        "colab": {
          "base_uri": "https://localhost:8080/"
        },
        "id": "Cia9xTUkBI9J",
        "outputId": "f897d895-eeac-46e6-9c16-d201b6f99686"
      },
      "execution_count": null,
      "outputs": [
        {
          "output_type": "stream",
          "name": "stdout",
          "text": [
            "Z-statistic: 1.2585502056656586, P-value: 0.2081928422259185\n"
          ]
        }
      ]
    },
    {
      "cell_type": "markdown",
      "source": [
        "##Problem 1.9"
      ],
      "metadata": {
        "id": "mW6ge--FEbec"
      }
    },
    {
      "cell_type": "markdown",
      "source": [
        "The results of the A/B test tells us that we cannot confidently say that our experimental design had an effect on conversion rates. Because of the small change in conversion rates, even given the large sample size, there is about a one-in-five chance that this observed difference is completely random.  The confidence level we set (95%), an industry best practice, is our expectation of the probability that this difference is NOT attributed to error/randomness. Hence, since the probability of randomness defining the difference is 20%, it does not meet our comfort threshold, which would be 100%-95% = 5%. Conversely, we set our power of our test to be 80%, which means refers to the likelihood that our measurement is a false negative. This is set at a lower level, as false negatives are less harmful."
      ],
      "metadata": {
        "id": "i2cFCmQnf6AF"
      }
    },
    {
      "cell_type": "markdown",
      "source": [
        "#2. Connecting to Business Objectives"
      ],
      "metadata": {
        "id": "CLJhVCZRldbZ"
      }
    },
    {
      "cell_type": "markdown",
      "source": [
        "##Problem 2.1"
      ],
      "metadata": {
        "id": "mLKw1Uy4mx3l"
      }
    },
    {
      "cell_type": "code",
      "source": [
        "from scipy.stats import gaussian_kde\n",
        "\n",
        "spend_A = df[df['Treatment']== 'Treatment A']['Spend']\n",
        "spend_C = df[df['Treatment']== 'Control']['Spend']\n",
        "fig, ax = plt.subplots()\n",
        "_, bins, _ = ax.hist(spend_A, bins=30, alpha=0.5, density=True, color = 'forestgreen', orientation = 'horizontal', label = 'AI Chatbot Users')\n",
        "ax.hist(spend_C, bins=bins, alpha=0.5, density=True, orientation = 'horizontal',color = 'grey',label = 'Control Group')\n",
        "\n",
        "kde_A = gaussian_kde(spend_A.dropna())\n",
        "kde_A_vals = kde_A(bins)\n",
        "ax.plot(kde_A_vals, bins, color='forestgreen', lw=2)\n",
        "\n",
        "kde_C = gaussian_kde(spend_C.dropna())\n",
        "kde_C_vals = kde_C(bins)\n",
        "ax.plot(kde_C_vals, bins, color='grey', lw=2)\n",
        "\n",
        "ax.set_xlabel('Frequency')\n",
        "ax.set_ylabel('Spend')\n",
        "ax.set_title('''Updated AI Chatbot Increases User Spend:\n",
        "Spend Distribution of Control and Chatbot Groups''')\n",
        "ax.legend()\n",
        "\n",
        "plt.show()"
      ],
      "metadata": {
        "colab": {
          "base_uri": "https://localhost:8080/",
          "height": 493
        },
        "id": "W2cTp78omvEb",
        "outputId": "0b9867cf-aec8-407b-8ad9-13266cea741c"
      },
      "execution_count": null,
      "outputs": [
        {
          "output_type": "display_data",
          "data": {
            "text/plain": [
              "<Figure size 640x480 with 1 Axes>"
            ],
            "image/png": "[encoded data removed]"
          },
          "metadata": {}
        }
      ]
    },
    {
      "cell_type": "markdown",
      "source": [
        "**Key Takeaways**\n",
        "\n",
        "Our preliminary analyses show that there was a statistically significant change in spend with the AI Chatbot, but not a stastically significant change in conversion. With this information, we might infer that customers are more likely to plan pricier trips when interacting with the chatbot, but are not more likely to decide on whether to finish the transaction. See the above trendlines for how the distribution of spend differed between the control and chatbot groups.\n",
        "\n",
        "\n",
        "**Business Implications**\n",
        "\n",
        "We can increase revenue by deploying this chatbot. However, we need to do more to understand why users are are spending more — are they being pushed more expensive options when cheaper ones exist, or is it that they're aspiring to more lavish and rewarding adventures?  These are important questions to investigate as they can significantly impact our long-term trust and brand reputation with our clients.\n",
        "\n",
        "**Follow-on Research Goals**\n",
        "\n",
        "Addition questions we may seek to answer include:\n",
        "*  Is there a difference in user satisfaction between control and treatment groups?\n",
        "*  What changes in behavior — travel modality, lodging, destinations — are treatment groups exhibiting?\n",
        "*  How are interactions prompting users to spend more?"
      ],
      "metadata": {
        "id": "J-VY_n2luwc6"
      }
    },
    {
      "cell_type": "markdown",
      "source": [
        "##Problem 2.2(a) - Additional Data Analysis\n",
        "\n",
        "*   List item\n",
        "*   List item\n",
        "\n"
      ],
      "metadata": {
        "id": "kx7M7ZFb963C"
      }
    },
    {
      "cell_type": "code",
      "source": [
        "#Before starting, evaluating if treatment changed flight purchase likelihood\n",
        "mod_dist = df.groupby('Treatment', as_index=False)[['Flight Purchase','Hotel Booking','Car Rental']].mean()\n",
        "mod_dist.head()"
      ],
      "metadata": {
        "colab": {
          "base_uri": "https://localhost:8080/",
          "height": 112
        },
        "id": "QQpmlkyB96Sm",
        "outputId": "6a8d13db-8e84-41d5-bd1f-4c44ffdd1281"
      },
      "execution_count": null,
      "outputs": [
        {
          "output_type": "execute_result",
          "data": {
            "text/plain": [
              "     Treatment  Flight Purchase  Hotel Booking  Car Rental\n",
              "0      Control         0.487903       0.113634    0.055384\n",
              "1  Treatment A         0.482039       0.338737    0.230969"
            ],
            "text/html": [
              "\n",
              "  <div id=\"df-769f5832-d308-487d-b3f6-540d62a973de\" class=\"colab-df-container\">\n",
              "    <div>\n",
              "<style scoped>\n",
              "    .dataframe tbody tr th:only-of-type {\n",
              "        vertical-align: middle;\n",
              "    }\n",
              "\n",
              "    .dataframe tbody tr th {\n",
              "        vertical-align: top;\n",
              "    }\n",
              "\n",
              "    .dataframe thead th {\n",
              "        text-align: right;\n",
              "    }\n",
              "</style>\n",
              "<table border=\"1\" class=\"dataframe\">\n",
              "  <thead>\n",
              "    <tr style=\"text-align: right;\">\n",
              "      <th></th>\n",
              "      <th>Treatment</th>\n",
              "      <th>Flight Purchase</th>\n",
              "      <th>Hotel Booking</th>\n",
              "      <th>Car Rental</th>\n",
              "    </tr>\n",
              "  </thead>\n",
              "  <tbody>\n",
              "    <tr>\n",
              "      <th>0</th>\n",
              "      <td>Control</td>\n",
              "      <td>0.487903</td>\n",
              "      <td>0.113634</td>\n",
              "      <td>0.055384</td>\n",
              "    </tr>\n",
              "    <tr>\n",
              "      <th>1</th>\n",
              "      <td>Treatment A</td>\n",
              "      <td>0.482039</td>\n",
              "      <td>0.338737</td>\n",
              "      <td>0.230969</td>\n",
              "    </tr>\n",
              "  </tbody>\n",
              "</table>\n",
              "</div>\n",
              "    <div class=\"colab-df-buttons\">\n",
              "\n",
              "  <div class=\"colab-df-container\">\n",
              "    <button class=\"colab-df-convert\" onclick=\"convertToInteractive('df-769f5832-d308-487d-b3f6-540d62a973de')\"\n",
              "            title=\"Convert this dataframe to an interactive table.\"\n",
              "            style=\"display:none;\">\n",
              "\n",
              "  <svg xmlns=\"http://www.w3.org/2000/svg\" height=\"24px\" viewBox=\"0 -960 960 960\">\n",
              "    <path d=\"M120-120v-720h720v720H120Zm60-500h600v-160H180v160Zm220 220h160v-160H400v160Zm0 220h160v-160H400v160ZM180-400h160v-160H180v160Zm440 0h160v-160H620v160ZM180-180h160v-160H180v160Zm440 0h160v-160H620v160Z\"/>\n",
              "  </svg>\n",
              "    </button>\n",
              "\n",
              "  <style>\n",
              "    .colab-df-container {\n",
              "      display:flex;\n",
              "      gap: 12px;\n",
              "    }\n",
              "\n",
              "    .colab-df-convert {\n",
              "      background-color: #E8F0FE;\n",
              "      border: none;\n",
              "      border-radius: 50%;\n",
              "      cursor: pointer;\n",
              "      display: none;\n",
              "      fill: #1967D2;\n",
              "      height: 32px;\n",
              "      padding: 0 0 0 0;\n",
              "      width: 32px;\n",
              "    }\n",
              "\n",
              "    .colab-df-convert:hover {\n",
              "      background-color: #E2EBFA;\n",
              "      box-shadow: 0px 1px 2px rgba(60, 64, 67, 0.3), 0px 1px 3px 1px rgba(60, 64, 67, 0.15);\n",
              "      fill: #174EA6;\n",
              "    }\n",
              "\n",
              "    .colab-df-buttons div {\n",
              "      margin-bottom: 4px;\n",
              "    }\n",
              "\n",
              "    [theme=dark] .colab-df-convert {\n",
              "      background-color: #3B4455;\n",
              "      fill: #D2E3FC;\n",
              "    }\n",
              "\n",
              "    [theme=dark] .colab-df-convert:hover {\n",
              "      background-color: #434B5C;\n",
              "      box-shadow: 0px 1px 3px 1px rgba(0, 0, 0, 0.15);\n",
              "      filter: drop-shadow(0px 1px 2px rgba(0, 0, 0, 0.3));\n",
              "      fill: #FFFFFF;\n",
              "    }\n",
              "  </style>\n",
              "\n",
              "    <script>\n",
              "      const buttonEl =\n",
              "        document.querySelector('#df-769f5832-d308-487d-b3f6-540d62a973de button.colab-df-convert');\n",
              "      buttonEl.style.display =\n",
              "        google.colab.kernel.accessAllowed ? 'block' : 'none';\n",
              "\n",
              "      async function convertToInteractive(key) {\n",
              "        const element = document.querySelector('#df-769f5832-d308-487d-b3f6-540d62a973de');\n",
              "        const dataTable =\n",
              "          await google.colab.kernel.invokeFunction('convertToInteractive',\n",
              "                                                    [key], {});\n",
              "        if (!dataTable) return;\n",
              "\n",
              "        const docLinkHtml = 'Like what you see? Visit the ' +\n",
              "          '<a target=\"_blank\" href=https://colab.research.google.com/notebooks/data_table.ipynb>data table notebook</a>'\n",
              "          + ' to learn more about interactive tables.';\n",
              "        element.innerHTML = '';\n",
              "        dataTable['output_type'] = 'display_data';\n",
              "        await google.colab.output.renderOutput(dataTable, element);\n",
              "        const docLink = document.createElement('div');\n",
              "        docLink.innerHTML = docLinkHtml;\n",
              "        element.appendChild(docLink);\n",
              "      }\n",
              "    </script>\n",
              "  </div>\n",
              "\n",
              "\n",
              "<div id=\"df-b186f357-4d4a-43a3-9cc4-473bfa9a7e15\">\n",
              "  <button class=\"colab-df-quickchart\" onclick=\"quickchart('df-b186f357-4d4a-43a3-9cc4-473bfa9a7e15')\"\n",
              "            title=\"Suggest charts\"\n",
              "            style=\"display:none;\">\n",
              "\n",
              "<svg xmlns=\"http://www.w3.org/2000/svg\" height=\"24px\"viewBox=\"0 0 24 24\"\n",
              "     width=\"24px\">\n",
              "    <g>\n",
              "        <path d=\"M19 3H5c-1.1 0-2 .9-2 2v14c0 1.1.9 2 2 2h14c1.1 0 2-.9 2-2V5c0-1.1-.9-2-2-2zM9 17H7v-7h2v7zm4 0h-2V7h2v10zm4 0h-2v-4h2v4z\"/>\n",
              "    </g>\n",
              "</svg>\n",
              "  </button>\n",
              "\n",
              "<style>\n",
              "  .colab-df-quickchart {\n",
              "      --bg-color: #E8F0FE;\n",
              "      --fill-color: #1967D2;\n",
              "      --hover-bg-color: #E2EBFA;\n",
              "      --hover-fill-color: #174EA6;\n",
              "      --disabled-fill-color: #AAA;\n",
              "      --disabled-bg-color: #DDD;\n",
              "  }\n",
              "\n",
              "  [theme=dark] .colab-df-quickchart {\n",
              "      --bg-color: #3B4455;\n",
              "      --fill-color: #D2E3FC;\n",
              "      --hover-bg-color: #434B5C;\n",
              "      --hover-fill-color: #FFFFFF;\n",
              "      --disabled-bg-color: #3B4455;\n",
              "      --disabled-fill-color: #666;\n",
              "  }\n",
              "\n",
              "  .colab-df-quickchart {\n",
              "    background-color: var(--bg-color);\n",
              "    border: none;\n",
              "    border-radius: 50%;\n",
              "    cursor: pointer;\n",
              "    display: none;\n",
              "    fill: var(--fill-color);\n",
              "    height: 32px;\n",
              "    padding: 0;\n",
              "    width: 32px;\n",
              "  }\n",
              "\n",
              "  .colab-df-quickchart:hover {\n",
              "    background-color: var(--hover-bg-color);\n",
              "    box-shadow: 0 1px 2px rgba(60, 64, 67, 0.3), 0 1px 3px 1px rgba(60, 64, 67, 0.15);\n",
              "    fill: var(--button-hover-fill-color);\n",
              "  }\n",
              "\n",
              "  .colab-df-quickchart-complete:disabled,\n",
              "  .colab-df-quickchart-complete:disabled:hover {\n",
              "    background-color: var(--disabled-bg-color);\n",
              "    fill: var(--disabled-fill-color);\n",
              "    box-shadow: none;\n",
              "  }\n",
              "\n",
              "  .colab-df-spinner {\n",
              "    border: 2px solid var(--fill-color);\n",
              "    border-color: transparent;\n",
              "    border-bottom-color: var(--fill-color);\n",
              "    animation:\n",
              "      spin 1s steps(1) infinite;\n",
              "  }\n",
              "\n",
              "  @keyframes spin {\n",
              "    0% {\n",
              "      border-color: transparent;\n",
              "      border-bottom-color: var(--fill-color);\n",
              "      border-left-color: var(--fill-color);\n",
              "    }\n",
              "    20% {\n",
              "      border-color: transparent;\n",
              "      border-left-color: var(--fill-color);\n",
              "      border-top-color: var(--fill-color);\n",
              "    }\n",
              "    30% {\n",
              "      border-color: transparent;\n",
              "      border-left-color: var(--fill-color);\n",
              "      border-top-color: var(--fill-color);\n",
              "      border-right-color: var(--fill-color);\n",
              "    }\n",
              "    40% {\n",
              "      border-color: transparent;\n",
              "      border-right-color: var(--fill-color);\n",
              "      border-top-color: var(--fill-color);\n",
              "    }\n",
              "    60% {\n",
              "      border-color: transparent;\n",
              "      border-right-color: var(--fill-color);\n",
              "    }\n",
              "    80% {\n",
              "      border-color: transparent;\n",
              "      border-right-color: var(--fill-color);\n",
              "      border-bottom-color: var(--fill-color);\n",
              "    }\n",
              "    90% {\n",
              "      border-color: transparent;\n",
              "      border-bottom-color: var(--fill-color);\n",
              "    }\n",
              "  }\n",
              "</style>\n",
              "\n",
              "  <script>\n",
              "    async function quickchart(key) {\n",
              "      const quickchartButtonEl =\n",
              "        document.querySelector('#' + key + ' button');\n",
              "      quickchartButtonEl.disabled = true;  // To prevent multiple clicks.\n",
              "      quickchartButtonEl.classList.add('colab-df-spinner');\n",
              "      try {\n",
              "        const charts = await google.colab.kernel.invokeFunction(\n",
              "            'suggestCharts', [key], {});\n",
              "      } catch (error) {\n",
              "        console.error('Error during call to suggestCharts:', error);\n",
              "      }\n",
              "      quickchartButtonEl.classList.remove('colab-df-spinner');\n",
              "      quickchartButtonEl.classList.add('colab-df-quickchart-complete');\n",
              "    }\n",
              "    (() => {\n",
              "      let quickchartButtonEl =\n",
              "        document.querySelector('#df-b186f357-4d4a-43a3-9cc4-473bfa9a7e15 button');\n",
              "      quickchartButtonEl.style.display =\n",
              "        google.colab.kernel.accessAllowed ? 'block' : 'none';\n",
              "    })();\n",
              "  </script>\n",
              "</div>\n",
              "\n",
              "    </div>\n",
              "  </div>\n"
            ],
            "application/vnd.google.colaboratory.intrinsic+json": {
              "type": "dataframe",
              "variable_name": "mod_dist",
              "summary": "{\n  \"name\": \"mod_dist\",\n  \"rows\": 2,\n  \"fields\": [\n    {\n      \"column\": \"Treatment\",\n      \"properties\": {\n        \"dtype\": \"string\",\n        \"num_unique_values\": 2,\n        \"samples\": [\n          \"Treatment A\",\n          \"Control\"\n        ],\n        \"semantic_type\": \"\",\n        \"description\": \"\"\n      }\n    },\n    {\n      \"column\": \"Flight Purchase\",\n      \"properties\": {\n        \"dtype\": \"number\",\n        \"std\": 0.004146557147081559,\n        \"min\": 0.4820386460900013,\n        \"max\": 0.48790276344455913,\n        \"num_unique_values\": 2,\n        \"samples\": [\n          0.4820386460900013,\n          0.48790276344455913\n        ],\n        \"semantic_type\": \"\",\n        \"description\": \"\"\n      }\n    },\n    {\n      \"column\": \"Hotel Booking\",\n      \"properties\": {\n        \"dtype\": \"number\",\n        \"std\": 0.1591719368275638,\n        \"min\": 0.11363375759660589,\n        \"max\": 0.33873686940734016,\n        \"num_unique_values\": 2,\n        \"samples\": [\n          0.33873686940734016,\n          0.11363375759660589\n        ],\n        \"semantic_type\": \"\",\n        \"description\": \"\"\n      }\n    },\n    {\n      \"column\": \"Car Rental\",\n      \"properties\": {\n        \"dtype\": \"number\",\n        \"std\": 0.12415747782899629,\n        \"min\": 0.05538355693154455,\n        \"max\": 0.23096874594734795,\n        \"num_unique_values\": 2,\n        \"samples\": [\n          0.23096874594734795,\n          0.05538355693154455\n        ],\n        \"semantic_type\": \"\",\n        \"description\": \"\"\n      }\n    }\n  ]\n}"
            }
          },
          "metadata": {},
          "execution_count": 55
        }
      ]
    },
    {
      "cell_type": "code",
      "source": [
        "#Seeing if flight spend increases based on treatment\n",
        "fl_cont = df.loc[(df['Treatment'] == 'Control') & (df['Flight Purchase'] == True) ,'Spend'].dropna()\n",
        "fl_A = df.loc[(df['Treatment'] == 'Treatment A')& (df['Flight Purchase'] == True),'Spend'].dropna()\n",
        "\n",
        "fl_contm = fl_cont.mean()\n",
        "fl_Am = fl_A.mean()\n",
        "\n",
        "t_stat, p_value = stats.ttest_ind(fl_cont, fl_A, equal_var=False)\n",
        "\n",
        "print(f\"\\nT-statistic: {t_stat:.3f}\")\n",
        "print(f\"P-value: {p_value:.3e}\")\n",
        "print(f\"Flight Spend Mean - Control: {fl_contm}\")\n",
        "print(f\"Flight Spend Mean - Treatment: {fl_Am}\")"
      ],
      "metadata": {
        "colab": {
          "base_uri": "https://localhost:8080/"
        },
        "id": "cTbpuqGG_MuT",
        "outputId": "9a0ede7a-7cbd-40b2-e1a7-4f638dcc65a3"
      },
      "execution_count": null,
      "outputs": [
        {
          "output_type": "stream",
          "name": "stdout",
          "text": [
            "\n",
            "T-statistic: -29.683\n",
            "P-value: 1.647e-179\n",
            "Flight Spend Mean - Control: 511.14039990478454\n",
            "Flight Spend Mean - Treatment: 1085.9443549265106\n"
          ]
        }
      ]
    },
    {
      "cell_type": "code",
      "source": [
        "fl_cont.head()"
      ],
      "metadata": {
        "colab": {
          "base_uri": "https://localhost:8080/",
          "height": 241
        },
        "id": "snNMaGnRBjCq",
        "outputId": "1fe5529b-cf44-4ca6-eece-657d3295f7fc"
      },
      "execution_count": null,
      "outputs": [
        {
          "output_type": "execute_result",
          "data": {
            "text/plain": [
              "3      280.37\n",
              "6       80.02\n",
              "9      291.75\n",
              "11     196.05\n",
              "15    1940.39\n",
              "Name: Spend, dtype: float64"
            ],
            "text/html": [
              "<div>\n",
              "<style scoped>\n",
              "    .dataframe tbody tr th:only-of-type {\n",
              "        vertical-align: middle;\n",
              "    }\n",
              "\n",
              "    .dataframe tbody tr th {\n",
              "        vertical-align: top;\n",
              "    }\n",
              "\n",
              "    .dataframe thead th {\n",
              "        text-align: right;\n",
              "    }\n",
              "</style>\n",
              "<table border=\"1\" class=\"dataframe\">\n",
              "  <thead>\n",
              "    <tr style=\"text-align: right;\">\n",
              "      <th></th>\n",
              "      <th>Spend</th>\n",
              "    </tr>\n",
              "  </thead>\n",
              "  <tbody>\n",
              "    <tr>\n",
              "      <th>3</th>\n",
              "      <td>280.37</td>\n",
              "    </tr>\n",
              "    <tr>\n",
              "      <th>6</th>\n",
              "      <td>80.02</td>\n",
              "    </tr>\n",
              "    <tr>\n",
              "      <th>9</th>\n",
              "      <td>291.75</td>\n",
              "    </tr>\n",
              "    <tr>\n",
              "      <th>11</th>\n",
              "      <td>196.05</td>\n",
              "    </tr>\n",
              "    <tr>\n",
              "      <th>15</th>\n",
              "      <td>1940.39</td>\n",
              "    </tr>\n",
              "  </tbody>\n",
              "</table>\n",
              "</div><br><label><b>dtype:</b> float64</label>"
            ]
          },
          "metadata": {},
          "execution_count": 63
        }
      ]
    },
    {
      "cell_type": "code",
      "source": [
        "#Seeing if flight conversion increases based on treatment\n",
        "\n",
        "f_dat = df.loc[(df['Flight Purchase'] == True)].dropna()\n",
        "\n",
        "f_n_c = (f_dat['Treatment'] == 'Control').sum()\n",
        "f_n_a = (f_dat['Treatment'] == 'Treatment A').sum()\n",
        "\n",
        "f_s_c = ((f_dat['Treatment'] == 'Control') & (df['Convert'] == True)).sum()\n",
        "f_s_a = ((f_dat['Treatment'] == 'Treatment A') & (df['Convert'] == True)).sum()\n",
        "\n",
        "count_f = np.array([f_s_c, f_s_a])\n",
        "nobs_f = np.array([f_n_c, f_n_a])\n",
        "\n",
        "z_stat, p_value = smprop.proportions_ztest(count_f, nobs_f)\n",
        "print(f\"Z-statistic: {z_stat}, P-value: {p_value}\")"
      ],
      "metadata": {
        "colab": {
          "base_uri": "https://localhost:8080/"
        },
        "id": "L_OtF1ElAtuR",
        "outputId": "5fcb5b05-0137-4434-8d70-686857464a76"
      },
      "execution_count": null,
      "outputs": [
        {
          "output_type": "stream",
          "name": "stdout",
          "text": [
            "Z-statistic: 0.9867648424154145, P-value: 0.32375793382767715\n"
          ]
        }
      ]
    },
    {
      "cell_type": "markdown",
      "source": [
        "##Problem 2.2(b) - Partnership Report"
      ],
      "metadata": {
        "id": "XVGibk0WDsJi"
      }
    },
    {
      "cell_type": "code",
      "source": [
        "spend_A = f_dat[f_dat['Treatment']== 'Treatment A']['Spend']\n",
        "spend_C = f_dat[f_dat['Treatment']== 'Control']['Spend']\n",
        "fig, ax = plt.subplots()\n",
        "_, bins, _ = ax.hist(spend_A, bins=30, alpha=0.5, density=True, color = 'forestgreen', orientation = 'horizontal', label = 'AI Chatbot Users')\n",
        "ax.hist(spend_C, bins=bins, alpha=0.5, density=True, orientation = 'horizontal',color = 'grey',label = 'Control Group')\n",
        "\n",
        "kde_A = gaussian_kde(spend_A.dropna())\n",
        "kde_A_vals = kde_A(bins)\n",
        "ax.plot(kde_A_vals, bins, color='forestgreen', lw=2)\n",
        "\n",
        "kde_C = gaussian_kde(spend_C.dropna())\n",
        "kde_C_vals = kde_C(bins)\n",
        "ax.plot(kde_C_vals, bins, color='grey', lw=2)\n",
        "\n",
        "ax.set_xlabel('Frequency')\n",
        "ax.set_ylabel('Spend')\n",
        "ax.set_title('''Updated AI Chatbot Increases User Spend on Flights:\n",
        "Spend Distribution of Control and Chatbot Groups''')\n",
        "ax.legend()\n"
      ],
      "metadata": {
        "colab": {
          "base_uri": "https://localhost:8080/",
          "height": 511
        },
        "id": "2DitOaBdDg7B",
        "outputId": "f0c4c001-535e-4954-cc13-2de323adb547"
      },
      "execution_count": null,
      "outputs": [
        {
          "output_type": "execute_result",
          "data": {
            "text/plain": [
              "<matplotlib.legend.Legend at 0x7d9a948735b0>"
            ]
          },
          "metadata": {},
          "execution_count": 74
        },
        {
          "output_type": "display_data",
          "data": {
            "text/plain": [
              "<Figure size 640x480 with 1 Axes>"
            ],
            "image/png": "[encoded data removed]"
          },
          "metadata": {}
        }
      ]
    },
    {
      "cell_type": "markdown",
      "source": [
        "**Key Takeaways**\n",
        "\n",
        "Our preliminary analyses show that there was a statistically significant shift in flight spend for users interacting AI Chatbot, but not a stastically significant change in conversion. With this information, we might infer that customers are more likely to plan pricier flights when interacting with the chatbot, but are not more likely to decide on whether to finish the transaction. See the above trendlines for how the distribution of spend differed between the control and chatbot groups.\n",
        "\n",
        "\n",
        "**Business Implications**\n",
        "\n",
        "We are still learning more about user behavior in response to the model, but a likely short-term effect is an increase in revenue for TRIA after this model is deployed. We might infer that the model may influence consumers to pay more for accomondations like a better time for flights, better seats, etc.\n",
        "\n",
        "**Action Items**\n",
        "\n",
        "*  We would still like to do a bit more research into the specific mechanism that is increasing flight spend.  It would be helpful for TRIA to see if customers are consistently satisfied with their purchase, and got good value out of their ticket and experience.\n",
        "*  If this is the case, TRIA may benefit from branching \"up-market.\"\n",
        "*  We also believe that we could better analyze the effect if TRIA could share with us the data of users who booked tickets via Reimagine Travel. This would allow us to better make sense of user behavior to ensure that TRIA continues to benefit from the partnership."
      ],
      "metadata": {
        "id": "kg5eC82AEPkM"
      }
    }
  ]
}